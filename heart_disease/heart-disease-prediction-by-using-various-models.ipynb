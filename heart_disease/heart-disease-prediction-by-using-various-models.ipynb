{
 "cells": [
  {
   "cell_type": "code",
   "execution_count": 1,
   "metadata": {},
   "outputs": [
    {
     "name": "stdout",
     "output_type": "stream",
     "text": [
      "Requirement already satisfied: imbalanced_learn in c:\\users\\msi\\anaconda3\\lib\\site-packages (0.8.1)\n",
      "Requirement already satisfied: scipy>=0.19.1 in c:\\users\\msi\\anaconda3\\lib\\site-packages (from imbalanced_learn) (1.6.2)\n",
      "Requirement already satisfied: numpy>=1.13.3 in c:\\users\\msi\\anaconda3\\lib\\site-packages (from imbalanced_learn) (1.20.1)\n",
      "Requirement already satisfied: joblib>=0.11 in c:\\users\\msi\\anaconda3\\lib\\site-packages (from imbalanced_learn) (1.0.1)\n",
      "Requirement already satisfied: scikit-learn>=0.24 in c:\\users\\msi\\anaconda3\\lib\\site-packages (from imbalanced_learn) (0.24.1)\n",
      "Requirement already satisfied: threadpoolctl>=2.0.0 in c:\\users\\msi\\anaconda3\\lib\\site-packages (from scikit-learn>=0.24->imbalanced_learn) (2.1.0)\n",
      "Note: you may need to restart the kernel to use updated packages.\n"
     ]
    }
   ],
   "source": [
    "pip install imbalanced_learn "
   ]
  },
  {
   "cell_type": "code",
   "execution_count": 2,
   "metadata": {
    "_cell_guid": "b1076dfc-b9ad-4769-8c92-a6c4dae69d19",
    "_uuid": "8f2839f25d086af736a60e9eeb907d3b93b6e0e5",
    "execution": {
     "iopub.execute_input": "2021-11-22T21:40:49.116052Z",
     "iopub.status.busy": "2021-11-22T21:40:49.115414Z",
     "iopub.status.idle": "2021-11-22T21:40:50.231910Z",
     "shell.execute_reply": "2021-11-22T21:40:50.230999Z",
     "shell.execute_reply.started": "2021-11-22T21:40:49.115943Z"
    }
   },
   "outputs": [],
   "source": [
    "\n",
    "import numpy as np # linear algebra\n",
    "import pandas as pd # data processing, CSV file I/O (e.g. pd.read_csv)\n",
    "import numpy as np\n",
    "import pandas as pd\n",
    "import matplotlib.pyplot as plt\n",
    "%matplotlib inline\n",
    "from sklearn.metrics import accuracy_score,confusion_matrix,classification_report\n",
    "from sklearn.model_selection import train_test_split\n",
    "from sklearn.preprocessing import StandardScaler\n",
    "import seaborn as sbn\n",
    "# Input data files are available in the read-only \"../input/\" directory\n",
    "# For example, running this (by clicking run or pressing Shift+Enter) will list all files under the input directory\n",
    "import os\n",
    "import imblearn\n",
    "from sklearn.decomposition  import PCA\n",
    "from sklearn import preprocessing\n",
    "from imblearn.under_sampling import CondensedNearestNeighbour"
   ]
  },
  {
   "cell_type": "code",
   "execution_count": 3,
   "metadata": {
    "execution": {
     "iopub.execute_input": "2021-11-22T21:40:50.233846Z",
     "iopub.status.busy": "2021-11-22T21:40:50.233569Z",
     "iopub.status.idle": "2021-11-22T21:40:50.251216Z",
     "shell.execute_reply": "2021-11-22T21:40:50.250345Z",
     "shell.execute_reply.started": "2021-11-22T21:40:50.233813Z"
    }
   },
   "outputs": [],
   "source": [
    "data = pd.read_csv(\"./heart.csv\")"
   ]
  },
  {
   "cell_type": "code",
   "execution_count": 4,
   "metadata": {},
   "outputs": [
    {
     "data": {
      "text/plain": [
       "(253680, 22)"
      ]
     },
     "execution_count": 4,
     "metadata": {},
     "output_type": "execute_result"
    }
   ],
   "source": [
    "data.shape"
   ]
  },
  {
   "cell_type": "code",
   "execution_count": 5,
   "metadata": {
    "execution": {
     "iopub.execute_input": "2021-11-22T21:40:50.253049Z",
     "iopub.status.busy": "2021-11-22T21:40:50.252572Z",
     "iopub.status.idle": "2021-11-22T21:40:50.283156Z",
     "shell.execute_reply": "2021-11-22T21:40:50.282240Z",
     "shell.execute_reply.started": "2021-11-22T21:40:50.253018Z"
    }
   },
   "outputs": [
    {
     "data": {
      "text/html": [
       "<div>\n",
       "<style scoped>\n",
       "    .dataframe tbody tr th:only-of-type {\n",
       "        vertical-align: middle;\n",
       "    }\n",
       "\n",
       "    .dataframe tbody tr th {\n",
       "        vertical-align: top;\n",
       "    }\n",
       "\n",
       "    .dataframe thead th {\n",
       "        text-align: right;\n",
       "    }\n",
       "</style>\n",
       "<table border=\"1\" class=\"dataframe\">\n",
       "  <thead>\n",
       "    <tr style=\"text-align: right;\">\n",
       "      <th></th>\n",
       "      <th>HeartDiseaseorAttack</th>\n",
       "      <th>HighBP</th>\n",
       "      <th>HighChol</th>\n",
       "      <th>CholCheck</th>\n",
       "      <th>BMI</th>\n",
       "      <th>Smoker</th>\n",
       "      <th>Stroke</th>\n",
       "      <th>Diabetes</th>\n",
       "      <th>PhysActivity</th>\n",
       "      <th>Fruits</th>\n",
       "      <th>...</th>\n",
       "      <th>AnyHealthcare</th>\n",
       "      <th>NoDocbcCost</th>\n",
       "      <th>GenHlth</th>\n",
       "      <th>MentHlth</th>\n",
       "      <th>PhysHlth</th>\n",
       "      <th>DiffWalk</th>\n",
       "      <th>Sex</th>\n",
       "      <th>Age</th>\n",
       "      <th>Education</th>\n",
       "      <th>Income</th>\n",
       "    </tr>\n",
       "  </thead>\n",
       "  <tbody>\n",
       "    <tr>\n",
       "      <th>0</th>\n",
       "      <td>0.0</td>\n",
       "      <td>1.0</td>\n",
       "      <td>1.0</td>\n",
       "      <td>1.0</td>\n",
       "      <td>40.0</td>\n",
       "      <td>1.0</td>\n",
       "      <td>0.0</td>\n",
       "      <td>0.0</td>\n",
       "      <td>0.0</td>\n",
       "      <td>0.0</td>\n",
       "      <td>...</td>\n",
       "      <td>1.0</td>\n",
       "      <td>0.0</td>\n",
       "      <td>5.0</td>\n",
       "      <td>18.0</td>\n",
       "      <td>15.0</td>\n",
       "      <td>1.0</td>\n",
       "      <td>0.0</td>\n",
       "      <td>9.0</td>\n",
       "      <td>4.0</td>\n",
       "      <td>3.0</td>\n",
       "    </tr>\n",
       "    <tr>\n",
       "      <th>1</th>\n",
       "      <td>0.0</td>\n",
       "      <td>0.0</td>\n",
       "      <td>0.0</td>\n",
       "      <td>0.0</td>\n",
       "      <td>25.0</td>\n",
       "      <td>1.0</td>\n",
       "      <td>0.0</td>\n",
       "      <td>0.0</td>\n",
       "      <td>1.0</td>\n",
       "      <td>0.0</td>\n",
       "      <td>...</td>\n",
       "      <td>0.0</td>\n",
       "      <td>1.0</td>\n",
       "      <td>3.0</td>\n",
       "      <td>0.0</td>\n",
       "      <td>0.0</td>\n",
       "      <td>0.0</td>\n",
       "      <td>0.0</td>\n",
       "      <td>7.0</td>\n",
       "      <td>6.0</td>\n",
       "      <td>1.0</td>\n",
       "    </tr>\n",
       "    <tr>\n",
       "      <th>2</th>\n",
       "      <td>0.0</td>\n",
       "      <td>1.0</td>\n",
       "      <td>1.0</td>\n",
       "      <td>1.0</td>\n",
       "      <td>28.0</td>\n",
       "      <td>0.0</td>\n",
       "      <td>0.0</td>\n",
       "      <td>0.0</td>\n",
       "      <td>0.0</td>\n",
       "      <td>1.0</td>\n",
       "      <td>...</td>\n",
       "      <td>1.0</td>\n",
       "      <td>1.0</td>\n",
       "      <td>5.0</td>\n",
       "      <td>30.0</td>\n",
       "      <td>30.0</td>\n",
       "      <td>1.0</td>\n",
       "      <td>0.0</td>\n",
       "      <td>9.0</td>\n",
       "      <td>4.0</td>\n",
       "      <td>8.0</td>\n",
       "    </tr>\n",
       "    <tr>\n",
       "      <th>3</th>\n",
       "      <td>0.0</td>\n",
       "      <td>1.0</td>\n",
       "      <td>0.0</td>\n",
       "      <td>1.0</td>\n",
       "      <td>27.0</td>\n",
       "      <td>0.0</td>\n",
       "      <td>0.0</td>\n",
       "      <td>0.0</td>\n",
       "      <td>1.0</td>\n",
       "      <td>1.0</td>\n",
       "      <td>...</td>\n",
       "      <td>1.0</td>\n",
       "      <td>0.0</td>\n",
       "      <td>2.0</td>\n",
       "      <td>0.0</td>\n",
       "      <td>0.0</td>\n",
       "      <td>0.0</td>\n",
       "      <td>0.0</td>\n",
       "      <td>11.0</td>\n",
       "      <td>3.0</td>\n",
       "      <td>6.0</td>\n",
       "    </tr>\n",
       "    <tr>\n",
       "      <th>4</th>\n",
       "      <td>0.0</td>\n",
       "      <td>1.0</td>\n",
       "      <td>1.0</td>\n",
       "      <td>1.0</td>\n",
       "      <td>24.0</td>\n",
       "      <td>0.0</td>\n",
       "      <td>0.0</td>\n",
       "      <td>0.0</td>\n",
       "      <td>1.0</td>\n",
       "      <td>1.0</td>\n",
       "      <td>...</td>\n",
       "      <td>1.0</td>\n",
       "      <td>0.0</td>\n",
       "      <td>2.0</td>\n",
       "      <td>3.0</td>\n",
       "      <td>0.0</td>\n",
       "      <td>0.0</td>\n",
       "      <td>0.0</td>\n",
       "      <td>11.0</td>\n",
       "      <td>5.0</td>\n",
       "      <td>4.0</td>\n",
       "    </tr>\n",
       "    <tr>\n",
       "      <th>...</th>\n",
       "      <td>...</td>\n",
       "      <td>...</td>\n",
       "      <td>...</td>\n",
       "      <td>...</td>\n",
       "      <td>...</td>\n",
       "      <td>...</td>\n",
       "      <td>...</td>\n",
       "      <td>...</td>\n",
       "      <td>...</td>\n",
       "      <td>...</td>\n",
       "      <td>...</td>\n",
       "      <td>...</td>\n",
       "      <td>...</td>\n",
       "      <td>...</td>\n",
       "      <td>...</td>\n",
       "      <td>...</td>\n",
       "      <td>...</td>\n",
       "      <td>...</td>\n",
       "      <td>...</td>\n",
       "      <td>...</td>\n",
       "      <td>...</td>\n",
       "    </tr>\n",
       "    <tr>\n",
       "      <th>253675</th>\n",
       "      <td>0.0</td>\n",
       "      <td>1.0</td>\n",
       "      <td>1.0</td>\n",
       "      <td>1.0</td>\n",
       "      <td>45.0</td>\n",
       "      <td>0.0</td>\n",
       "      <td>0.0</td>\n",
       "      <td>0.0</td>\n",
       "      <td>0.0</td>\n",
       "      <td>1.0</td>\n",
       "      <td>...</td>\n",
       "      <td>1.0</td>\n",
       "      <td>0.0</td>\n",
       "      <td>3.0</td>\n",
       "      <td>0.0</td>\n",
       "      <td>5.0</td>\n",
       "      <td>0.0</td>\n",
       "      <td>1.0</td>\n",
       "      <td>5.0</td>\n",
       "      <td>6.0</td>\n",
       "      <td>7.0</td>\n",
       "    </tr>\n",
       "    <tr>\n",
       "      <th>253676</th>\n",
       "      <td>0.0</td>\n",
       "      <td>1.0</td>\n",
       "      <td>1.0</td>\n",
       "      <td>1.0</td>\n",
       "      <td>18.0</td>\n",
       "      <td>0.0</td>\n",
       "      <td>0.0</td>\n",
       "      <td>2.0</td>\n",
       "      <td>0.0</td>\n",
       "      <td>0.0</td>\n",
       "      <td>...</td>\n",
       "      <td>1.0</td>\n",
       "      <td>0.0</td>\n",
       "      <td>4.0</td>\n",
       "      <td>0.0</td>\n",
       "      <td>0.0</td>\n",
       "      <td>1.0</td>\n",
       "      <td>0.0</td>\n",
       "      <td>11.0</td>\n",
       "      <td>2.0</td>\n",
       "      <td>4.0</td>\n",
       "    </tr>\n",
       "    <tr>\n",
       "      <th>253677</th>\n",
       "      <td>0.0</td>\n",
       "      <td>0.0</td>\n",
       "      <td>0.0</td>\n",
       "      <td>1.0</td>\n",
       "      <td>28.0</td>\n",
       "      <td>0.0</td>\n",
       "      <td>0.0</td>\n",
       "      <td>0.0</td>\n",
       "      <td>1.0</td>\n",
       "      <td>1.0</td>\n",
       "      <td>...</td>\n",
       "      <td>1.0</td>\n",
       "      <td>0.0</td>\n",
       "      <td>1.0</td>\n",
       "      <td>0.0</td>\n",
       "      <td>0.0</td>\n",
       "      <td>0.0</td>\n",
       "      <td>0.0</td>\n",
       "      <td>2.0</td>\n",
       "      <td>5.0</td>\n",
       "      <td>2.0</td>\n",
       "    </tr>\n",
       "    <tr>\n",
       "      <th>253678</th>\n",
       "      <td>0.0</td>\n",
       "      <td>1.0</td>\n",
       "      <td>0.0</td>\n",
       "      <td>1.0</td>\n",
       "      <td>23.0</td>\n",
       "      <td>0.0</td>\n",
       "      <td>0.0</td>\n",
       "      <td>0.0</td>\n",
       "      <td>0.0</td>\n",
       "      <td>1.0</td>\n",
       "      <td>...</td>\n",
       "      <td>1.0</td>\n",
       "      <td>0.0</td>\n",
       "      <td>3.0</td>\n",
       "      <td>0.0</td>\n",
       "      <td>0.0</td>\n",
       "      <td>0.0</td>\n",
       "      <td>1.0</td>\n",
       "      <td>7.0</td>\n",
       "      <td>5.0</td>\n",
       "      <td>1.0</td>\n",
       "    </tr>\n",
       "    <tr>\n",
       "      <th>253679</th>\n",
       "      <td>1.0</td>\n",
       "      <td>1.0</td>\n",
       "      <td>1.0</td>\n",
       "      <td>1.0</td>\n",
       "      <td>25.0</td>\n",
       "      <td>0.0</td>\n",
       "      <td>0.0</td>\n",
       "      <td>2.0</td>\n",
       "      <td>1.0</td>\n",
       "      <td>1.0</td>\n",
       "      <td>...</td>\n",
       "      <td>1.0</td>\n",
       "      <td>0.0</td>\n",
       "      <td>2.0</td>\n",
       "      <td>0.0</td>\n",
       "      <td>0.0</td>\n",
       "      <td>0.0</td>\n",
       "      <td>0.0</td>\n",
       "      <td>9.0</td>\n",
       "      <td>6.0</td>\n",
       "      <td>2.0</td>\n",
       "    </tr>\n",
       "  </tbody>\n",
       "</table>\n",
       "<p>253680 rows × 22 columns</p>\n",
       "</div>"
      ],
      "text/plain": [
       "        HeartDiseaseorAttack  HighBP  HighChol  CholCheck   BMI  Smoker  \\\n",
       "0                        0.0     1.0       1.0        1.0  40.0     1.0   \n",
       "1                        0.0     0.0       0.0        0.0  25.0     1.0   \n",
       "2                        0.0     1.0       1.0        1.0  28.0     0.0   \n",
       "3                        0.0     1.0       0.0        1.0  27.0     0.0   \n",
       "4                        0.0     1.0       1.0        1.0  24.0     0.0   \n",
       "...                      ...     ...       ...        ...   ...     ...   \n",
       "253675                   0.0     1.0       1.0        1.0  45.0     0.0   \n",
       "253676                   0.0     1.0       1.0        1.0  18.0     0.0   \n",
       "253677                   0.0     0.0       0.0        1.0  28.0     0.0   \n",
       "253678                   0.0     1.0       0.0        1.0  23.0     0.0   \n",
       "253679                   1.0     1.0       1.0        1.0  25.0     0.0   \n",
       "\n",
       "        Stroke  Diabetes  PhysActivity  Fruits  ...  AnyHealthcare  \\\n",
       "0          0.0       0.0           0.0     0.0  ...            1.0   \n",
       "1          0.0       0.0           1.0     0.0  ...            0.0   \n",
       "2          0.0       0.0           0.0     1.0  ...            1.0   \n",
       "3          0.0       0.0           1.0     1.0  ...            1.0   \n",
       "4          0.0       0.0           1.0     1.0  ...            1.0   \n",
       "...        ...       ...           ...     ...  ...            ...   \n",
       "253675     0.0       0.0           0.0     1.0  ...            1.0   \n",
       "253676     0.0       2.0           0.0     0.0  ...            1.0   \n",
       "253677     0.0       0.0           1.0     1.0  ...            1.0   \n",
       "253678     0.0       0.0           0.0     1.0  ...            1.0   \n",
       "253679     0.0       2.0           1.0     1.0  ...            1.0   \n",
       "\n",
       "        NoDocbcCost  GenHlth  MentHlth  PhysHlth  DiffWalk  Sex   Age  \\\n",
       "0               0.0      5.0      18.0      15.0       1.0  0.0   9.0   \n",
       "1               1.0      3.0       0.0       0.0       0.0  0.0   7.0   \n",
       "2               1.0      5.0      30.0      30.0       1.0  0.0   9.0   \n",
       "3               0.0      2.0       0.0       0.0       0.0  0.0  11.0   \n",
       "4               0.0      2.0       3.0       0.0       0.0  0.0  11.0   \n",
       "...             ...      ...       ...       ...       ...  ...   ...   \n",
       "253675          0.0      3.0       0.0       5.0       0.0  1.0   5.0   \n",
       "253676          0.0      4.0       0.0       0.0       1.0  0.0  11.0   \n",
       "253677          0.0      1.0       0.0       0.0       0.0  0.0   2.0   \n",
       "253678          0.0      3.0       0.0       0.0       0.0  1.0   7.0   \n",
       "253679          0.0      2.0       0.0       0.0       0.0  0.0   9.0   \n",
       "\n",
       "        Education  Income  \n",
       "0             4.0     3.0  \n",
       "1             6.0     1.0  \n",
       "2             4.0     8.0  \n",
       "3             3.0     6.0  \n",
       "4             5.0     4.0  \n",
       "...           ...     ...  \n",
       "253675        6.0     7.0  \n",
       "253676        2.0     4.0  \n",
       "253677        5.0     2.0  \n",
       "253678        5.0     1.0  \n",
       "253679        6.0     2.0  \n",
       "\n",
       "[253680 rows x 22 columns]"
      ]
     },
     "execution_count": 5,
     "metadata": {},
     "output_type": "execute_result"
    }
   ],
   "source": [
    "data"
   ]
  },
  {
   "cell_type": "code",
   "execution_count": 6,
   "metadata": {
    "execution": {
     "iopub.execute_input": "2021-11-22T21:40:50.286525Z",
     "iopub.status.busy": "2021-11-22T21:40:50.285642Z",
     "iopub.status.idle": "2021-11-22T21:40:50.315251Z",
     "shell.execute_reply": "2021-11-22T21:40:50.314443Z",
     "shell.execute_reply.started": "2021-11-22T21:40:50.286478Z"
    }
   },
   "outputs": [
    {
     "data": {
      "text/html": [
       "<div>\n",
       "<style scoped>\n",
       "    .dataframe tbody tr th:only-of-type {\n",
       "        vertical-align: middle;\n",
       "    }\n",
       "\n",
       "    .dataframe tbody tr th {\n",
       "        vertical-align: top;\n",
       "    }\n",
       "\n",
       "    .dataframe thead th {\n",
       "        text-align: right;\n",
       "    }\n",
       "</style>\n",
       "<table border=\"1\" class=\"dataframe\">\n",
       "  <thead>\n",
       "    <tr style=\"text-align: right;\">\n",
       "      <th></th>\n",
       "      <th>HeartDiseaseorAttack</th>\n",
       "      <th>HighBP</th>\n",
       "      <th>HighChol</th>\n",
       "      <th>CholCheck</th>\n",
       "      <th>BMI</th>\n",
       "      <th>Smoker</th>\n",
       "      <th>Stroke</th>\n",
       "      <th>Diabetes</th>\n",
       "      <th>PhysActivity</th>\n",
       "      <th>Fruits</th>\n",
       "      <th>...</th>\n",
       "      <th>AnyHealthcare</th>\n",
       "      <th>NoDocbcCost</th>\n",
       "      <th>GenHlth</th>\n",
       "      <th>MentHlth</th>\n",
       "      <th>PhysHlth</th>\n",
       "      <th>DiffWalk</th>\n",
       "      <th>Sex</th>\n",
       "      <th>Age</th>\n",
       "      <th>Education</th>\n",
       "      <th>Income</th>\n",
       "    </tr>\n",
       "  </thead>\n",
       "  <tbody>\n",
       "    <tr>\n",
       "      <th>HeartDiseaseorAttack</th>\n",
       "      <td>1.000000</td>\n",
       "      <td>0.209361</td>\n",
       "      <td>0.180765</td>\n",
       "      <td>0.044206</td>\n",
       "      <td>0.052904</td>\n",
       "      <td>0.114441</td>\n",
       "      <td>0.203002</td>\n",
       "      <td>0.180272</td>\n",
       "      <td>-0.087299</td>\n",
       "      <td>-0.019790</td>\n",
       "      <td>...</td>\n",
       "      <td>0.018734</td>\n",
       "      <td>0.031000</td>\n",
       "      <td>0.258383</td>\n",
       "      <td>0.064621</td>\n",
       "      <td>0.181698</td>\n",
       "      <td>0.212709</td>\n",
       "      <td>0.086096</td>\n",
       "      <td>0.221618</td>\n",
       "      <td>-0.099600</td>\n",
       "      <td>-0.141011</td>\n",
       "    </tr>\n",
       "    <tr>\n",
       "      <th>HighBP</th>\n",
       "      <td>0.209361</td>\n",
       "      <td>1.000000</td>\n",
       "      <td>0.298199</td>\n",
       "      <td>0.098508</td>\n",
       "      <td>0.213748</td>\n",
       "      <td>0.096991</td>\n",
       "      <td>0.129575</td>\n",
       "      <td>0.271596</td>\n",
       "      <td>-0.125267</td>\n",
       "      <td>-0.040555</td>\n",
       "      <td>...</td>\n",
       "      <td>0.038425</td>\n",
       "      <td>0.017358</td>\n",
       "      <td>0.300530</td>\n",
       "      <td>0.056456</td>\n",
       "      <td>0.161212</td>\n",
       "      <td>0.223618</td>\n",
       "      <td>0.052207</td>\n",
       "      <td>0.344452</td>\n",
       "      <td>-0.141358</td>\n",
       "      <td>-0.171235</td>\n",
       "    </tr>\n",
       "    <tr>\n",
       "      <th>HighChol</th>\n",
       "      <td>0.180765</td>\n",
       "      <td>0.298199</td>\n",
       "      <td>1.000000</td>\n",
       "      <td>0.085642</td>\n",
       "      <td>0.106722</td>\n",
       "      <td>0.091299</td>\n",
       "      <td>0.092620</td>\n",
       "      <td>0.209085</td>\n",
       "      <td>-0.078046</td>\n",
       "      <td>-0.040859</td>\n",
       "      <td>...</td>\n",
       "      <td>0.042230</td>\n",
       "      <td>0.013310</td>\n",
       "      <td>0.208426</td>\n",
       "      <td>0.062069</td>\n",
       "      <td>0.121751</td>\n",
       "      <td>0.144672</td>\n",
       "      <td>0.031205</td>\n",
       "      <td>0.272318</td>\n",
       "      <td>-0.070802</td>\n",
       "      <td>-0.085459</td>\n",
       "    </tr>\n",
       "    <tr>\n",
       "      <th>CholCheck</th>\n",
       "      <td>0.044206</td>\n",
       "      <td>0.098508</td>\n",
       "      <td>0.085642</td>\n",
       "      <td>1.000000</td>\n",
       "      <td>0.034495</td>\n",
       "      <td>-0.009929</td>\n",
       "      <td>0.024158</td>\n",
       "      <td>0.067546</td>\n",
       "      <td>0.004190</td>\n",
       "      <td>0.023849</td>\n",
       "      <td>...</td>\n",
       "      <td>0.117626</td>\n",
       "      <td>-0.058255</td>\n",
       "      <td>0.046589</td>\n",
       "      <td>-0.008366</td>\n",
       "      <td>0.031775</td>\n",
       "      <td>0.040585</td>\n",
       "      <td>-0.022115</td>\n",
       "      <td>0.090321</td>\n",
       "      <td>0.001510</td>\n",
       "      <td>0.014259</td>\n",
       "    </tr>\n",
       "    <tr>\n",
       "      <th>BMI</th>\n",
       "      <td>0.052904</td>\n",
       "      <td>0.213748</td>\n",
       "      <td>0.106722</td>\n",
       "      <td>0.034495</td>\n",
       "      <td>1.000000</td>\n",
       "      <td>0.013804</td>\n",
       "      <td>0.020153</td>\n",
       "      <td>0.224379</td>\n",
       "      <td>-0.147294</td>\n",
       "      <td>-0.087518</td>\n",
       "      <td>...</td>\n",
       "      <td>-0.018471</td>\n",
       "      <td>0.058206</td>\n",
       "      <td>0.239185</td>\n",
       "      <td>0.085310</td>\n",
       "      <td>0.121141</td>\n",
       "      <td>0.197078</td>\n",
       "      <td>0.042950</td>\n",
       "      <td>-0.036618</td>\n",
       "      <td>-0.103932</td>\n",
       "      <td>-0.100069</td>\n",
       "    </tr>\n",
       "    <tr>\n",
       "      <th>Smoker</th>\n",
       "      <td>0.114441</td>\n",
       "      <td>0.096991</td>\n",
       "      <td>0.091299</td>\n",
       "      <td>-0.009929</td>\n",
       "      <td>0.013804</td>\n",
       "      <td>1.000000</td>\n",
       "      <td>0.061173</td>\n",
       "      <td>0.062914</td>\n",
       "      <td>-0.087401</td>\n",
       "      <td>-0.077666</td>\n",
       "      <td>...</td>\n",
       "      <td>-0.023251</td>\n",
       "      <td>0.048946</td>\n",
       "      <td>0.163143</td>\n",
       "      <td>0.092196</td>\n",
       "      <td>0.116460</td>\n",
       "      <td>0.122463</td>\n",
       "      <td>0.093662</td>\n",
       "      <td>0.120641</td>\n",
       "      <td>-0.161955</td>\n",
       "      <td>-0.123937</td>\n",
       "    </tr>\n",
       "    <tr>\n",
       "      <th>Stroke</th>\n",
       "      <td>0.203002</td>\n",
       "      <td>0.129575</td>\n",
       "      <td>0.092620</td>\n",
       "      <td>0.024158</td>\n",
       "      <td>0.020153</td>\n",
       "      <td>0.061173</td>\n",
       "      <td>1.000000</td>\n",
       "      <td>0.107179</td>\n",
       "      <td>-0.069151</td>\n",
       "      <td>-0.013389</td>\n",
       "      <td>...</td>\n",
       "      <td>0.008776</td>\n",
       "      <td>0.034804</td>\n",
       "      <td>0.177942</td>\n",
       "      <td>0.070172</td>\n",
       "      <td>0.148944</td>\n",
       "      <td>0.176567</td>\n",
       "      <td>0.002978</td>\n",
       "      <td>0.126974</td>\n",
       "      <td>-0.076009</td>\n",
       "      <td>-0.128599</td>\n",
       "    </tr>\n",
       "    <tr>\n",
       "      <th>Diabetes</th>\n",
       "      <td>0.180272</td>\n",
       "      <td>0.271596</td>\n",
       "      <td>0.209085</td>\n",
       "      <td>0.067546</td>\n",
       "      <td>0.224379</td>\n",
       "      <td>0.062914</td>\n",
       "      <td>0.107179</td>\n",
       "      <td>1.000000</td>\n",
       "      <td>-0.121947</td>\n",
       "      <td>-0.042192</td>\n",
       "      <td>...</td>\n",
       "      <td>0.015410</td>\n",
       "      <td>0.035436</td>\n",
       "      <td>0.302587</td>\n",
       "      <td>0.073507</td>\n",
       "      <td>0.176287</td>\n",
       "      <td>0.224239</td>\n",
       "      <td>0.031040</td>\n",
       "      <td>0.185026</td>\n",
       "      <td>-0.130517</td>\n",
       "      <td>-0.171483</td>\n",
       "    </tr>\n",
       "    <tr>\n",
       "      <th>PhysActivity</th>\n",
       "      <td>-0.087299</td>\n",
       "      <td>-0.125267</td>\n",
       "      <td>-0.078046</td>\n",
       "      <td>0.004190</td>\n",
       "      <td>-0.147294</td>\n",
       "      <td>-0.087401</td>\n",
       "      <td>-0.069151</td>\n",
       "      <td>-0.121947</td>\n",
       "      <td>1.000000</td>\n",
       "      <td>0.142756</td>\n",
       "      <td>...</td>\n",
       "      <td>0.035505</td>\n",
       "      <td>-0.061638</td>\n",
       "      <td>-0.266186</td>\n",
       "      <td>-0.125587</td>\n",
       "      <td>-0.219230</td>\n",
       "      <td>-0.253174</td>\n",
       "      <td>0.032482</td>\n",
       "      <td>-0.092511</td>\n",
       "      <td>0.199658</td>\n",
       "      <td>0.198539</td>\n",
       "    </tr>\n",
       "    <tr>\n",
       "      <th>Fruits</th>\n",
       "      <td>-0.019790</td>\n",
       "      <td>-0.040555</td>\n",
       "      <td>-0.040859</td>\n",
       "      <td>0.023849</td>\n",
       "      <td>-0.087518</td>\n",
       "      <td>-0.077666</td>\n",
       "      <td>-0.013389</td>\n",
       "      <td>-0.042192</td>\n",
       "      <td>0.142756</td>\n",
       "      <td>1.000000</td>\n",
       "      <td>...</td>\n",
       "      <td>0.031544</td>\n",
       "      <td>-0.044243</td>\n",
       "      <td>-0.103854</td>\n",
       "      <td>-0.068217</td>\n",
       "      <td>-0.044633</td>\n",
       "      <td>-0.048352</td>\n",
       "      <td>-0.091175</td>\n",
       "      <td>0.064547</td>\n",
       "      <td>0.110187</td>\n",
       "      <td>0.079929</td>\n",
       "    </tr>\n",
       "    <tr>\n",
       "      <th>Veggies</th>\n",
       "      <td>-0.039167</td>\n",
       "      <td>-0.061266</td>\n",
       "      <td>-0.039874</td>\n",
       "      <td>0.006121</td>\n",
       "      <td>-0.062275</td>\n",
       "      <td>-0.030678</td>\n",
       "      <td>-0.041124</td>\n",
       "      <td>-0.058972</td>\n",
       "      <td>0.153150</td>\n",
       "      <td>0.254342</td>\n",
       "      <td>...</td>\n",
       "      <td>0.029584</td>\n",
       "      <td>-0.032232</td>\n",
       "      <td>-0.123066</td>\n",
       "      <td>-0.058884</td>\n",
       "      <td>-0.064290</td>\n",
       "      <td>-0.080506</td>\n",
       "      <td>-0.064765</td>\n",
       "      <td>-0.009771</td>\n",
       "      <td>0.154329</td>\n",
       "      <td>0.151087</td>\n",
       "    </tr>\n",
       "    <tr>\n",
       "      <th>HvyAlcoholConsump</th>\n",
       "      <td>-0.028991</td>\n",
       "      <td>-0.003972</td>\n",
       "      <td>-0.011543</td>\n",
       "      <td>-0.023730</td>\n",
       "      <td>-0.048736</td>\n",
       "      <td>0.101619</td>\n",
       "      <td>-0.016950</td>\n",
       "      <td>-0.057882</td>\n",
       "      <td>0.012392</td>\n",
       "      <td>-0.035288</td>\n",
       "      <td>...</td>\n",
       "      <td>-0.010488</td>\n",
       "      <td>0.004684</td>\n",
       "      <td>-0.036724</td>\n",
       "      <td>0.024716</td>\n",
       "      <td>-0.026415</td>\n",
       "      <td>-0.037668</td>\n",
       "      <td>0.005740</td>\n",
       "      <td>-0.034578</td>\n",
       "      <td>0.023997</td>\n",
       "      <td>0.053619</td>\n",
       "    </tr>\n",
       "    <tr>\n",
       "      <th>AnyHealthcare</th>\n",
       "      <td>0.018734</td>\n",
       "      <td>0.038425</td>\n",
       "      <td>0.042230</td>\n",
       "      <td>0.117626</td>\n",
       "      <td>-0.018471</td>\n",
       "      <td>-0.023251</td>\n",
       "      <td>0.008776</td>\n",
       "      <td>0.015410</td>\n",
       "      <td>0.035505</td>\n",
       "      <td>0.031544</td>\n",
       "      <td>...</td>\n",
       "      <td>1.000000</td>\n",
       "      <td>-0.232532</td>\n",
       "      <td>-0.040817</td>\n",
       "      <td>-0.052707</td>\n",
       "      <td>-0.008276</td>\n",
       "      <td>0.007074</td>\n",
       "      <td>-0.019405</td>\n",
       "      <td>0.138046</td>\n",
       "      <td>0.122514</td>\n",
       "      <td>0.157999</td>\n",
       "    </tr>\n",
       "    <tr>\n",
       "      <th>NoDocbcCost</th>\n",
       "      <td>0.031000</td>\n",
       "      <td>0.017358</td>\n",
       "      <td>0.013310</td>\n",
       "      <td>-0.058255</td>\n",
       "      <td>0.058206</td>\n",
       "      <td>0.048946</td>\n",
       "      <td>0.034804</td>\n",
       "      <td>0.035436</td>\n",
       "      <td>-0.061638</td>\n",
       "      <td>-0.044243</td>\n",
       "      <td>...</td>\n",
       "      <td>-0.232532</td>\n",
       "      <td>1.000000</td>\n",
       "      <td>0.166397</td>\n",
       "      <td>0.192107</td>\n",
       "      <td>0.148998</td>\n",
       "      <td>0.118447</td>\n",
       "      <td>-0.044931</td>\n",
       "      <td>-0.119777</td>\n",
       "      <td>-0.100701</td>\n",
       "      <td>-0.203182</td>\n",
       "    </tr>\n",
       "    <tr>\n",
       "      <th>GenHlth</th>\n",
       "      <td>0.258383</td>\n",
       "      <td>0.300530</td>\n",
       "      <td>0.208426</td>\n",
       "      <td>0.046589</td>\n",
       "      <td>0.239185</td>\n",
       "      <td>0.163143</td>\n",
       "      <td>0.177942</td>\n",
       "      <td>0.302587</td>\n",
       "      <td>-0.266186</td>\n",
       "      <td>-0.103854</td>\n",
       "      <td>...</td>\n",
       "      <td>-0.040817</td>\n",
       "      <td>0.166397</td>\n",
       "      <td>1.000000</td>\n",
       "      <td>0.301674</td>\n",
       "      <td>0.524364</td>\n",
       "      <td>0.456920</td>\n",
       "      <td>-0.006091</td>\n",
       "      <td>0.152450</td>\n",
       "      <td>-0.284912</td>\n",
       "      <td>-0.370014</td>\n",
       "    </tr>\n",
       "    <tr>\n",
       "      <th>MentHlth</th>\n",
       "      <td>0.064621</td>\n",
       "      <td>0.056456</td>\n",
       "      <td>0.062069</td>\n",
       "      <td>-0.008366</td>\n",
       "      <td>0.085310</td>\n",
       "      <td>0.092196</td>\n",
       "      <td>0.070172</td>\n",
       "      <td>0.073507</td>\n",
       "      <td>-0.125587</td>\n",
       "      <td>-0.068217</td>\n",
       "      <td>...</td>\n",
       "      <td>-0.052707</td>\n",
       "      <td>0.192107</td>\n",
       "      <td>0.301674</td>\n",
       "      <td>1.000000</td>\n",
       "      <td>0.353619</td>\n",
       "      <td>0.233688</td>\n",
       "      <td>-0.080705</td>\n",
       "      <td>-0.092068</td>\n",
       "      <td>-0.101830</td>\n",
       "      <td>-0.209806</td>\n",
       "    </tr>\n",
       "    <tr>\n",
       "      <th>PhysHlth</th>\n",
       "      <td>0.181698</td>\n",
       "      <td>0.161212</td>\n",
       "      <td>0.121751</td>\n",
       "      <td>0.031775</td>\n",
       "      <td>0.121141</td>\n",
       "      <td>0.116460</td>\n",
       "      <td>0.148944</td>\n",
       "      <td>0.176287</td>\n",
       "      <td>-0.219230</td>\n",
       "      <td>-0.044633</td>\n",
       "      <td>...</td>\n",
       "      <td>-0.008276</td>\n",
       "      <td>0.148998</td>\n",
       "      <td>0.524364</td>\n",
       "      <td>0.353619</td>\n",
       "      <td>1.000000</td>\n",
       "      <td>0.478417</td>\n",
       "      <td>-0.043137</td>\n",
       "      <td>0.099130</td>\n",
       "      <td>-0.155093</td>\n",
       "      <td>-0.266799</td>\n",
       "    </tr>\n",
       "    <tr>\n",
       "      <th>DiffWalk</th>\n",
       "      <td>0.212709</td>\n",
       "      <td>0.223618</td>\n",
       "      <td>0.144672</td>\n",
       "      <td>0.040585</td>\n",
       "      <td>0.197078</td>\n",
       "      <td>0.122463</td>\n",
       "      <td>0.176567</td>\n",
       "      <td>0.224239</td>\n",
       "      <td>-0.253174</td>\n",
       "      <td>-0.048352</td>\n",
       "      <td>...</td>\n",
       "      <td>0.007074</td>\n",
       "      <td>0.118447</td>\n",
       "      <td>0.456920</td>\n",
       "      <td>0.233688</td>\n",
       "      <td>0.478417</td>\n",
       "      <td>1.000000</td>\n",
       "      <td>-0.070299</td>\n",
       "      <td>0.204450</td>\n",
       "      <td>-0.192642</td>\n",
       "      <td>-0.320124</td>\n",
       "    </tr>\n",
       "    <tr>\n",
       "      <th>Sex</th>\n",
       "      <td>0.086096</td>\n",
       "      <td>0.052207</td>\n",
       "      <td>0.031205</td>\n",
       "      <td>-0.022115</td>\n",
       "      <td>0.042950</td>\n",
       "      <td>0.093662</td>\n",
       "      <td>0.002978</td>\n",
       "      <td>0.031040</td>\n",
       "      <td>0.032482</td>\n",
       "      <td>-0.091175</td>\n",
       "      <td>...</td>\n",
       "      <td>-0.019405</td>\n",
       "      <td>-0.044931</td>\n",
       "      <td>-0.006091</td>\n",
       "      <td>-0.080705</td>\n",
       "      <td>-0.043137</td>\n",
       "      <td>-0.070299</td>\n",
       "      <td>1.000000</td>\n",
       "      <td>-0.027340</td>\n",
       "      <td>0.019480</td>\n",
       "      <td>0.127141</td>\n",
       "    </tr>\n",
       "    <tr>\n",
       "      <th>Age</th>\n",
       "      <td>0.221618</td>\n",
       "      <td>0.344452</td>\n",
       "      <td>0.272318</td>\n",
       "      <td>0.090321</td>\n",
       "      <td>-0.036618</td>\n",
       "      <td>0.120641</td>\n",
       "      <td>0.126974</td>\n",
       "      <td>0.185026</td>\n",
       "      <td>-0.092511</td>\n",
       "      <td>0.064547</td>\n",
       "      <td>...</td>\n",
       "      <td>0.138046</td>\n",
       "      <td>-0.119777</td>\n",
       "      <td>0.152450</td>\n",
       "      <td>-0.092068</td>\n",
       "      <td>0.099130</td>\n",
       "      <td>0.204450</td>\n",
       "      <td>-0.027340</td>\n",
       "      <td>1.000000</td>\n",
       "      <td>-0.101901</td>\n",
       "      <td>-0.127775</td>\n",
       "    </tr>\n",
       "    <tr>\n",
       "      <th>Education</th>\n",
       "      <td>-0.099600</td>\n",
       "      <td>-0.141358</td>\n",
       "      <td>-0.070802</td>\n",
       "      <td>0.001510</td>\n",
       "      <td>-0.103932</td>\n",
       "      <td>-0.161955</td>\n",
       "      <td>-0.076009</td>\n",
       "      <td>-0.130517</td>\n",
       "      <td>0.199658</td>\n",
       "      <td>0.110187</td>\n",
       "      <td>...</td>\n",
       "      <td>0.122514</td>\n",
       "      <td>-0.100701</td>\n",
       "      <td>-0.284912</td>\n",
       "      <td>-0.101830</td>\n",
       "      <td>-0.155093</td>\n",
       "      <td>-0.192642</td>\n",
       "      <td>0.019480</td>\n",
       "      <td>-0.101901</td>\n",
       "      <td>1.000000</td>\n",
       "      <td>0.449106</td>\n",
       "    </tr>\n",
       "    <tr>\n",
       "      <th>Income</th>\n",
       "      <td>-0.141011</td>\n",
       "      <td>-0.171235</td>\n",
       "      <td>-0.085459</td>\n",
       "      <td>0.014259</td>\n",
       "      <td>-0.100069</td>\n",
       "      <td>-0.123937</td>\n",
       "      <td>-0.128599</td>\n",
       "      <td>-0.171483</td>\n",
       "      <td>0.198539</td>\n",
       "      <td>0.079929</td>\n",
       "      <td>...</td>\n",
       "      <td>0.157999</td>\n",
       "      <td>-0.203182</td>\n",
       "      <td>-0.370014</td>\n",
       "      <td>-0.209806</td>\n",
       "      <td>-0.266799</td>\n",
       "      <td>-0.320124</td>\n",
       "      <td>0.127141</td>\n",
       "      <td>-0.127775</td>\n",
       "      <td>0.449106</td>\n",
       "      <td>1.000000</td>\n",
       "    </tr>\n",
       "  </tbody>\n",
       "</table>\n",
       "<p>22 rows × 22 columns</p>\n",
       "</div>"
      ],
      "text/plain": [
       "                      HeartDiseaseorAttack    HighBP  HighChol  CholCheck  \\\n",
       "HeartDiseaseorAttack              1.000000  0.209361  0.180765   0.044206   \n",
       "HighBP                            0.209361  1.000000  0.298199   0.098508   \n",
       "HighChol                          0.180765  0.298199  1.000000   0.085642   \n",
       "CholCheck                         0.044206  0.098508  0.085642   1.000000   \n",
       "BMI                               0.052904  0.213748  0.106722   0.034495   \n",
       "Smoker                            0.114441  0.096991  0.091299  -0.009929   \n",
       "Stroke                            0.203002  0.129575  0.092620   0.024158   \n",
       "Diabetes                          0.180272  0.271596  0.209085   0.067546   \n",
       "PhysActivity                     -0.087299 -0.125267 -0.078046   0.004190   \n",
       "Fruits                           -0.019790 -0.040555 -0.040859   0.023849   \n",
       "Veggies                          -0.039167 -0.061266 -0.039874   0.006121   \n",
       "HvyAlcoholConsump                -0.028991 -0.003972 -0.011543  -0.023730   \n",
       "AnyHealthcare                     0.018734  0.038425  0.042230   0.117626   \n",
       "NoDocbcCost                       0.031000  0.017358  0.013310  -0.058255   \n",
       "GenHlth                           0.258383  0.300530  0.208426   0.046589   \n",
       "MentHlth                          0.064621  0.056456  0.062069  -0.008366   \n",
       "PhysHlth                          0.181698  0.161212  0.121751   0.031775   \n",
       "DiffWalk                          0.212709  0.223618  0.144672   0.040585   \n",
       "Sex                               0.086096  0.052207  0.031205  -0.022115   \n",
       "Age                               0.221618  0.344452  0.272318   0.090321   \n",
       "Education                        -0.099600 -0.141358 -0.070802   0.001510   \n",
       "Income                           -0.141011 -0.171235 -0.085459   0.014259   \n",
       "\n",
       "                           BMI    Smoker    Stroke  Diabetes  PhysActivity  \\\n",
       "HeartDiseaseorAttack  0.052904  0.114441  0.203002  0.180272     -0.087299   \n",
       "HighBP                0.213748  0.096991  0.129575  0.271596     -0.125267   \n",
       "HighChol              0.106722  0.091299  0.092620  0.209085     -0.078046   \n",
       "CholCheck             0.034495 -0.009929  0.024158  0.067546      0.004190   \n",
       "BMI                   1.000000  0.013804  0.020153  0.224379     -0.147294   \n",
       "Smoker                0.013804  1.000000  0.061173  0.062914     -0.087401   \n",
       "Stroke                0.020153  0.061173  1.000000  0.107179     -0.069151   \n",
       "Diabetes              0.224379  0.062914  0.107179  1.000000     -0.121947   \n",
       "PhysActivity         -0.147294 -0.087401 -0.069151 -0.121947      1.000000   \n",
       "Fruits               -0.087518 -0.077666 -0.013389 -0.042192      0.142756   \n",
       "Veggies              -0.062275 -0.030678 -0.041124 -0.058972      0.153150   \n",
       "HvyAlcoholConsump    -0.048736  0.101619 -0.016950 -0.057882      0.012392   \n",
       "AnyHealthcare        -0.018471 -0.023251  0.008776  0.015410      0.035505   \n",
       "NoDocbcCost           0.058206  0.048946  0.034804  0.035436     -0.061638   \n",
       "GenHlth               0.239185  0.163143  0.177942  0.302587     -0.266186   \n",
       "MentHlth              0.085310  0.092196  0.070172  0.073507     -0.125587   \n",
       "PhysHlth              0.121141  0.116460  0.148944  0.176287     -0.219230   \n",
       "DiffWalk              0.197078  0.122463  0.176567  0.224239     -0.253174   \n",
       "Sex                   0.042950  0.093662  0.002978  0.031040      0.032482   \n",
       "Age                  -0.036618  0.120641  0.126974  0.185026     -0.092511   \n",
       "Education            -0.103932 -0.161955 -0.076009 -0.130517      0.199658   \n",
       "Income               -0.100069 -0.123937 -0.128599 -0.171483      0.198539   \n",
       "\n",
       "                        Fruits  ...  AnyHealthcare  NoDocbcCost   GenHlth  \\\n",
       "HeartDiseaseorAttack -0.019790  ...       0.018734     0.031000  0.258383   \n",
       "HighBP               -0.040555  ...       0.038425     0.017358  0.300530   \n",
       "HighChol             -0.040859  ...       0.042230     0.013310  0.208426   \n",
       "CholCheck             0.023849  ...       0.117626    -0.058255  0.046589   \n",
       "BMI                  -0.087518  ...      -0.018471     0.058206  0.239185   \n",
       "Smoker               -0.077666  ...      -0.023251     0.048946  0.163143   \n",
       "Stroke               -0.013389  ...       0.008776     0.034804  0.177942   \n",
       "Diabetes             -0.042192  ...       0.015410     0.035436  0.302587   \n",
       "PhysActivity          0.142756  ...       0.035505    -0.061638 -0.266186   \n",
       "Fruits                1.000000  ...       0.031544    -0.044243 -0.103854   \n",
       "Veggies               0.254342  ...       0.029584    -0.032232 -0.123066   \n",
       "HvyAlcoholConsump    -0.035288  ...      -0.010488     0.004684 -0.036724   \n",
       "AnyHealthcare         0.031544  ...       1.000000    -0.232532 -0.040817   \n",
       "NoDocbcCost          -0.044243  ...      -0.232532     1.000000  0.166397   \n",
       "GenHlth              -0.103854  ...      -0.040817     0.166397  1.000000   \n",
       "MentHlth             -0.068217  ...      -0.052707     0.192107  0.301674   \n",
       "PhysHlth             -0.044633  ...      -0.008276     0.148998  0.524364   \n",
       "DiffWalk             -0.048352  ...       0.007074     0.118447  0.456920   \n",
       "Sex                  -0.091175  ...      -0.019405    -0.044931 -0.006091   \n",
       "Age                   0.064547  ...       0.138046    -0.119777  0.152450   \n",
       "Education             0.110187  ...       0.122514    -0.100701 -0.284912   \n",
       "Income                0.079929  ...       0.157999    -0.203182 -0.370014   \n",
       "\n",
       "                      MentHlth  PhysHlth  DiffWalk       Sex       Age  \\\n",
       "HeartDiseaseorAttack  0.064621  0.181698  0.212709  0.086096  0.221618   \n",
       "HighBP                0.056456  0.161212  0.223618  0.052207  0.344452   \n",
       "HighChol              0.062069  0.121751  0.144672  0.031205  0.272318   \n",
       "CholCheck            -0.008366  0.031775  0.040585 -0.022115  0.090321   \n",
       "BMI                   0.085310  0.121141  0.197078  0.042950 -0.036618   \n",
       "Smoker                0.092196  0.116460  0.122463  0.093662  0.120641   \n",
       "Stroke                0.070172  0.148944  0.176567  0.002978  0.126974   \n",
       "Diabetes              0.073507  0.176287  0.224239  0.031040  0.185026   \n",
       "PhysActivity         -0.125587 -0.219230 -0.253174  0.032482 -0.092511   \n",
       "Fruits               -0.068217 -0.044633 -0.048352 -0.091175  0.064547   \n",
       "Veggies              -0.058884 -0.064290 -0.080506 -0.064765 -0.009771   \n",
       "HvyAlcoholConsump     0.024716 -0.026415 -0.037668  0.005740 -0.034578   \n",
       "AnyHealthcare        -0.052707 -0.008276  0.007074 -0.019405  0.138046   \n",
       "NoDocbcCost           0.192107  0.148998  0.118447 -0.044931 -0.119777   \n",
       "GenHlth               0.301674  0.524364  0.456920 -0.006091  0.152450   \n",
       "MentHlth              1.000000  0.353619  0.233688 -0.080705 -0.092068   \n",
       "PhysHlth              0.353619  1.000000  0.478417 -0.043137  0.099130   \n",
       "DiffWalk              0.233688  0.478417  1.000000 -0.070299  0.204450   \n",
       "Sex                  -0.080705 -0.043137 -0.070299  1.000000 -0.027340   \n",
       "Age                  -0.092068  0.099130  0.204450 -0.027340  1.000000   \n",
       "Education            -0.101830 -0.155093 -0.192642  0.019480 -0.101901   \n",
       "Income               -0.209806 -0.266799 -0.320124  0.127141 -0.127775   \n",
       "\n",
       "                      Education    Income  \n",
       "HeartDiseaseorAttack  -0.099600 -0.141011  \n",
       "HighBP                -0.141358 -0.171235  \n",
       "HighChol              -0.070802 -0.085459  \n",
       "CholCheck              0.001510  0.014259  \n",
       "BMI                   -0.103932 -0.100069  \n",
       "Smoker                -0.161955 -0.123937  \n",
       "Stroke                -0.076009 -0.128599  \n",
       "Diabetes              -0.130517 -0.171483  \n",
       "PhysActivity           0.199658  0.198539  \n",
       "Fruits                 0.110187  0.079929  \n",
       "Veggies                0.154329  0.151087  \n",
       "HvyAlcoholConsump      0.023997  0.053619  \n",
       "AnyHealthcare          0.122514  0.157999  \n",
       "NoDocbcCost           -0.100701 -0.203182  \n",
       "GenHlth               -0.284912 -0.370014  \n",
       "MentHlth              -0.101830 -0.209806  \n",
       "PhysHlth              -0.155093 -0.266799  \n",
       "DiffWalk              -0.192642 -0.320124  \n",
       "Sex                    0.019480  0.127141  \n",
       "Age                   -0.101901 -0.127775  \n",
       "Education              1.000000  0.449106  \n",
       "Income                 0.449106  1.000000  \n",
       "\n",
       "[22 rows x 22 columns]"
      ]
     },
     "execution_count": 6,
     "metadata": {},
     "output_type": "execute_result"
    }
   ],
   "source": [
    "data.corr()"
   ]
  },
  {
   "cell_type": "code",
   "execution_count": 7,
   "metadata": {
    "execution": {
     "iopub.execute_input": "2021-11-22T21:40:50.316627Z",
     "iopub.status.busy": "2021-11-22T21:40:50.316402Z",
     "iopub.status.idle": "2021-11-22T21:40:50.536294Z",
     "shell.execute_reply": "2021-11-22T21:40:50.535305Z",
     "shell.execute_reply.started": "2021-11-22T21:40:50.316599Z"
    }
   },
   "outputs": [
    {
     "data": {
      "text/html": [
       "<div>\n",
       "<style scoped>\n",
       "    .dataframe tbody tr th:only-of-type {\n",
       "        vertical-align: middle;\n",
       "    }\n",
       "\n",
       "    .dataframe tbody tr th {\n",
       "        vertical-align: top;\n",
       "    }\n",
       "\n",
       "    .dataframe thead th {\n",
       "        text-align: right;\n",
       "    }\n",
       "</style>\n",
       "<table border=\"1\" class=\"dataframe\">\n",
       "  <thead>\n",
       "    <tr style=\"text-align: right;\">\n",
       "      <th></th>\n",
       "      <th>HeartDiseaseorAttack</th>\n",
       "      <th>HighBP</th>\n",
       "      <th>HighChol</th>\n",
       "      <th>CholCheck</th>\n",
       "      <th>BMI</th>\n",
       "      <th>Smoker</th>\n",
       "      <th>Stroke</th>\n",
       "      <th>Diabetes</th>\n",
       "      <th>PhysActivity</th>\n",
       "      <th>Fruits</th>\n",
       "      <th>...</th>\n",
       "      <th>AnyHealthcare</th>\n",
       "      <th>NoDocbcCost</th>\n",
       "      <th>GenHlth</th>\n",
       "      <th>MentHlth</th>\n",
       "      <th>PhysHlth</th>\n",
       "      <th>DiffWalk</th>\n",
       "      <th>Sex</th>\n",
       "      <th>Age</th>\n",
       "      <th>Education</th>\n",
       "      <th>Income</th>\n",
       "    </tr>\n",
       "  </thead>\n",
       "  <tbody>\n",
       "    <tr>\n",
       "      <th>count</th>\n",
       "      <td>253680.000000</td>\n",
       "      <td>253680.000000</td>\n",
       "      <td>253680.000000</td>\n",
       "      <td>253680.000000</td>\n",
       "      <td>253680.000000</td>\n",
       "      <td>253680.000000</td>\n",
       "      <td>253680.000000</td>\n",
       "      <td>253680.000000</td>\n",
       "      <td>253680.000000</td>\n",
       "      <td>253680.000000</td>\n",
       "      <td>...</td>\n",
       "      <td>253680.000000</td>\n",
       "      <td>253680.000000</td>\n",
       "      <td>253680.000000</td>\n",
       "      <td>253680.000000</td>\n",
       "      <td>253680.000000</td>\n",
       "      <td>253680.000000</td>\n",
       "      <td>253680.000000</td>\n",
       "      <td>253680.000000</td>\n",
       "      <td>253680.000000</td>\n",
       "      <td>253680.000000</td>\n",
       "    </tr>\n",
       "    <tr>\n",
       "      <th>mean</th>\n",
       "      <td>0.094186</td>\n",
       "      <td>0.429001</td>\n",
       "      <td>0.424121</td>\n",
       "      <td>0.962670</td>\n",
       "      <td>28.382364</td>\n",
       "      <td>0.443169</td>\n",
       "      <td>0.040571</td>\n",
       "      <td>0.296921</td>\n",
       "      <td>0.756544</td>\n",
       "      <td>0.634256</td>\n",
       "      <td>...</td>\n",
       "      <td>0.951053</td>\n",
       "      <td>0.084177</td>\n",
       "      <td>2.511392</td>\n",
       "      <td>3.184772</td>\n",
       "      <td>4.242081</td>\n",
       "      <td>0.168224</td>\n",
       "      <td>0.440342</td>\n",
       "      <td>8.032119</td>\n",
       "      <td>5.050434</td>\n",
       "      <td>6.053875</td>\n",
       "    </tr>\n",
       "    <tr>\n",
       "      <th>std</th>\n",
       "      <td>0.292087</td>\n",
       "      <td>0.494934</td>\n",
       "      <td>0.494210</td>\n",
       "      <td>0.189571</td>\n",
       "      <td>6.608694</td>\n",
       "      <td>0.496761</td>\n",
       "      <td>0.197294</td>\n",
       "      <td>0.698160</td>\n",
       "      <td>0.429169</td>\n",
       "      <td>0.481639</td>\n",
       "      <td>...</td>\n",
       "      <td>0.215759</td>\n",
       "      <td>0.277654</td>\n",
       "      <td>1.068477</td>\n",
       "      <td>7.412847</td>\n",
       "      <td>8.717951</td>\n",
       "      <td>0.374066</td>\n",
       "      <td>0.496429</td>\n",
       "      <td>3.054220</td>\n",
       "      <td>0.985774</td>\n",
       "      <td>2.071148</td>\n",
       "    </tr>\n",
       "    <tr>\n",
       "      <th>min</th>\n",
       "      <td>0.000000</td>\n",
       "      <td>0.000000</td>\n",
       "      <td>0.000000</td>\n",
       "      <td>0.000000</td>\n",
       "      <td>12.000000</td>\n",
       "      <td>0.000000</td>\n",
       "      <td>0.000000</td>\n",
       "      <td>0.000000</td>\n",
       "      <td>0.000000</td>\n",
       "      <td>0.000000</td>\n",
       "      <td>...</td>\n",
       "      <td>0.000000</td>\n",
       "      <td>0.000000</td>\n",
       "      <td>1.000000</td>\n",
       "      <td>0.000000</td>\n",
       "      <td>0.000000</td>\n",
       "      <td>0.000000</td>\n",
       "      <td>0.000000</td>\n",
       "      <td>1.000000</td>\n",
       "      <td>1.000000</td>\n",
       "      <td>1.000000</td>\n",
       "    </tr>\n",
       "    <tr>\n",
       "      <th>25%</th>\n",
       "      <td>0.000000</td>\n",
       "      <td>0.000000</td>\n",
       "      <td>0.000000</td>\n",
       "      <td>1.000000</td>\n",
       "      <td>24.000000</td>\n",
       "      <td>0.000000</td>\n",
       "      <td>0.000000</td>\n",
       "      <td>0.000000</td>\n",
       "      <td>1.000000</td>\n",
       "      <td>0.000000</td>\n",
       "      <td>...</td>\n",
       "      <td>1.000000</td>\n",
       "      <td>0.000000</td>\n",
       "      <td>2.000000</td>\n",
       "      <td>0.000000</td>\n",
       "      <td>0.000000</td>\n",
       "      <td>0.000000</td>\n",
       "      <td>0.000000</td>\n",
       "      <td>6.000000</td>\n",
       "      <td>4.000000</td>\n",
       "      <td>5.000000</td>\n",
       "    </tr>\n",
       "    <tr>\n",
       "      <th>50%</th>\n",
       "      <td>0.000000</td>\n",
       "      <td>0.000000</td>\n",
       "      <td>0.000000</td>\n",
       "      <td>1.000000</td>\n",
       "      <td>27.000000</td>\n",
       "      <td>0.000000</td>\n",
       "      <td>0.000000</td>\n",
       "      <td>0.000000</td>\n",
       "      <td>1.000000</td>\n",
       "      <td>1.000000</td>\n",
       "      <td>...</td>\n",
       "      <td>1.000000</td>\n",
       "      <td>0.000000</td>\n",
       "      <td>2.000000</td>\n",
       "      <td>0.000000</td>\n",
       "      <td>0.000000</td>\n",
       "      <td>0.000000</td>\n",
       "      <td>0.000000</td>\n",
       "      <td>8.000000</td>\n",
       "      <td>5.000000</td>\n",
       "      <td>7.000000</td>\n",
       "    </tr>\n",
       "    <tr>\n",
       "      <th>75%</th>\n",
       "      <td>0.000000</td>\n",
       "      <td>1.000000</td>\n",
       "      <td>1.000000</td>\n",
       "      <td>1.000000</td>\n",
       "      <td>31.000000</td>\n",
       "      <td>1.000000</td>\n",
       "      <td>0.000000</td>\n",
       "      <td>0.000000</td>\n",
       "      <td>1.000000</td>\n",
       "      <td>1.000000</td>\n",
       "      <td>...</td>\n",
       "      <td>1.000000</td>\n",
       "      <td>0.000000</td>\n",
       "      <td>3.000000</td>\n",
       "      <td>2.000000</td>\n",
       "      <td>3.000000</td>\n",
       "      <td>0.000000</td>\n",
       "      <td>1.000000</td>\n",
       "      <td>10.000000</td>\n",
       "      <td>6.000000</td>\n",
       "      <td>8.000000</td>\n",
       "    </tr>\n",
       "    <tr>\n",
       "      <th>max</th>\n",
       "      <td>1.000000</td>\n",
       "      <td>1.000000</td>\n",
       "      <td>1.000000</td>\n",
       "      <td>1.000000</td>\n",
       "      <td>98.000000</td>\n",
       "      <td>1.000000</td>\n",
       "      <td>1.000000</td>\n",
       "      <td>2.000000</td>\n",
       "      <td>1.000000</td>\n",
       "      <td>1.000000</td>\n",
       "      <td>...</td>\n",
       "      <td>1.000000</td>\n",
       "      <td>1.000000</td>\n",
       "      <td>5.000000</td>\n",
       "      <td>30.000000</td>\n",
       "      <td>30.000000</td>\n",
       "      <td>1.000000</td>\n",
       "      <td>1.000000</td>\n",
       "      <td>13.000000</td>\n",
       "      <td>6.000000</td>\n",
       "      <td>8.000000</td>\n",
       "    </tr>\n",
       "  </tbody>\n",
       "</table>\n",
       "<p>8 rows × 22 columns</p>\n",
       "</div>"
      ],
      "text/plain": [
       "       HeartDiseaseorAttack         HighBP       HighChol      CholCheck  \\\n",
       "count         253680.000000  253680.000000  253680.000000  253680.000000   \n",
       "mean               0.094186       0.429001       0.424121       0.962670   \n",
       "std                0.292087       0.494934       0.494210       0.189571   \n",
       "min                0.000000       0.000000       0.000000       0.000000   \n",
       "25%                0.000000       0.000000       0.000000       1.000000   \n",
       "50%                0.000000       0.000000       0.000000       1.000000   \n",
       "75%                0.000000       1.000000       1.000000       1.000000   \n",
       "max                1.000000       1.000000       1.000000       1.000000   \n",
       "\n",
       "                 BMI         Smoker         Stroke       Diabetes  \\\n",
       "count  253680.000000  253680.000000  253680.000000  253680.000000   \n",
       "mean       28.382364       0.443169       0.040571       0.296921   \n",
       "std         6.608694       0.496761       0.197294       0.698160   \n",
       "min        12.000000       0.000000       0.000000       0.000000   \n",
       "25%        24.000000       0.000000       0.000000       0.000000   \n",
       "50%        27.000000       0.000000       0.000000       0.000000   \n",
       "75%        31.000000       1.000000       0.000000       0.000000   \n",
       "max        98.000000       1.000000       1.000000       2.000000   \n",
       "\n",
       "        PhysActivity         Fruits  ...  AnyHealthcare    NoDocbcCost  \\\n",
       "count  253680.000000  253680.000000  ...  253680.000000  253680.000000   \n",
       "mean        0.756544       0.634256  ...       0.951053       0.084177   \n",
       "std         0.429169       0.481639  ...       0.215759       0.277654   \n",
       "min         0.000000       0.000000  ...       0.000000       0.000000   \n",
       "25%         1.000000       0.000000  ...       1.000000       0.000000   \n",
       "50%         1.000000       1.000000  ...       1.000000       0.000000   \n",
       "75%         1.000000       1.000000  ...       1.000000       0.000000   \n",
       "max         1.000000       1.000000  ...       1.000000       1.000000   \n",
       "\n",
       "             GenHlth       MentHlth       PhysHlth       DiffWalk  \\\n",
       "count  253680.000000  253680.000000  253680.000000  253680.000000   \n",
       "mean        2.511392       3.184772       4.242081       0.168224   \n",
       "std         1.068477       7.412847       8.717951       0.374066   \n",
       "min         1.000000       0.000000       0.000000       0.000000   \n",
       "25%         2.000000       0.000000       0.000000       0.000000   \n",
       "50%         2.000000       0.000000       0.000000       0.000000   \n",
       "75%         3.000000       2.000000       3.000000       0.000000   \n",
       "max         5.000000      30.000000      30.000000       1.000000   \n",
       "\n",
       "                 Sex            Age      Education         Income  \n",
       "count  253680.000000  253680.000000  253680.000000  253680.000000  \n",
       "mean        0.440342       8.032119       5.050434       6.053875  \n",
       "std         0.496429       3.054220       0.985774       2.071148  \n",
       "min         0.000000       1.000000       1.000000       1.000000  \n",
       "25%         0.000000       6.000000       4.000000       5.000000  \n",
       "50%         0.000000       8.000000       5.000000       7.000000  \n",
       "75%         1.000000      10.000000       6.000000       8.000000  \n",
       "max         1.000000      13.000000       6.000000       8.000000  \n",
       "\n",
       "[8 rows x 22 columns]"
      ]
     },
     "execution_count": 7,
     "metadata": {},
     "output_type": "execute_result"
    }
   ],
   "source": [
    "data.describe()"
   ]
  },
  {
   "cell_type": "code",
   "execution_count": 8,
   "metadata": {
    "execution": {
     "iopub.execute_input": "2021-11-22T21:41:45.642242Z",
     "iopub.status.busy": "2021-11-22T21:41:45.641988Z",
     "iopub.status.idle": "2021-11-22T21:41:45.647765Z",
     "shell.execute_reply": "2021-11-22T21:41:45.647139Z",
     "shell.execute_reply.started": "2021-11-22T21:41:45.642211Z"
    }
   },
   "outputs": [],
   "source": [
    "data_target = data.groupby(\"HeartDiseaseorAttack\").size()"
   ]
  },
  {
   "cell_type": "code",
   "execution_count": 9,
   "metadata": {
    "execution": {
     "iopub.execute_input": "2021-11-22T21:41:45.649532Z",
     "iopub.status.busy": "2021-11-22T21:41:45.648964Z",
     "iopub.status.idle": "2021-11-22T21:41:45.662765Z",
     "shell.execute_reply": "2021-11-22T21:41:45.662042Z",
     "shell.execute_reply.started": "2021-11-22T21:41:45.649497Z"
    }
   },
   "outputs": [
    {
     "data": {
      "text/plain": [
       "(array([1., 0., 0., 0., 0., 0., 0., 0., 0., 1.]),\n",
       " array([ 23893. ,  44482.4,  65071.8,  85661.2, 106250.6, 126840. ,\n",
       "        147429.4, 168018.8, 188608.2, 209197.6, 229787. ]),\n",
       " <BarContainer object of 10 artists>)"
      ]
     },
     "execution_count": 9,
     "metadata": {},
     "output_type": "execute_result"
    },
    {
     "data": {
      "image/png": "[encoded data removed]",
      "text/plain": [
       "<Figure size 432x288 with 1 Axes>"
      ]
     },
     "metadata": {
      "needs_background": "light"
     },
     "output_type": "display_data"
    }
   ],
   "source": [
    "data_target\n",
    "plt.hist(data_target)"
   ]
  },
  {
   "cell_type": "markdown",
   "metadata": {
    "execution": {
     "iopub.execute_input": "2021-11-15T14:59:44.087551Z",
     "iopub.status.busy": "2021-11-15T14:59:44.086628Z",
     "iopub.status.idle": "2021-11-15T14:59:44.093002Z",
     "shell.execute_reply": "2021-11-15T14:59:44.092161Z",
     "shell.execute_reply.started": "2021-11-15T14:59:44.087502Z"
    }
   },
   "source": [
    "0 --> doesn't suffer from heart diseases, \n",
    "1 --> suffer from heart diseases"
   ]
  },
  {
   "cell_type": "code",
   "execution_count": 10,
   "metadata": {
    "execution": {
     "iopub.execute_input": "2021-11-22T21:41:45.664480Z",
     "iopub.status.busy": "2021-11-22T21:41:45.664080Z",
     "iopub.status.idle": "2021-11-22T21:41:45.791316Z",
     "shell.execute_reply": "2021-11-22T21:41:45.790380Z",
     "shell.execute_reply.started": "2021-11-22T21:41:45.664448Z"
    },
    "scrolled": true
   },
   "outputs": [
    {
     "data": {
      "image/png": "[encoded data removed]",
      "text/plain": [
       "<Figure size 432x288 with 1 Axes>"
      ]
     },
     "metadata": {},
     "output_type": "display_data"
    }
   ],
   "source": [
    "plt.pie(data_target.values, labels = [\"Percentage of persons who doesn't suffer from heart diseases \", \"Percentage of persons who suffer from heart diseases\"] , autopct='%1.1f%%', radius = 1.5, textprops = {\"fontsize\" : 16}) \n",
    "plt.show()"
   ]
  },
  {
   "cell_type": "code",
   "execution_count": 11,
   "metadata": {},
   "outputs": [],
   "source": [
    "undersample = CondensedNearestNeighbour(n_neighbors=3)"
   ]
  },
  {
   "cell_type": "code",
   "execution_count": 12,
   "metadata": {},
   "outputs": [],
   "source": [
    "#data,data['HeartDiseaseorAttack']=undersample.fit_resample(X=data.iloc[:,1:],y=data['HeartDiseaseorAttack'])"
   ]
  },
  {
   "cell_type": "code",
   "execution_count": 13,
   "metadata": {
    "execution": {
     "iopub.execute_input": "2021-11-22T21:41:45.794902Z",
     "iopub.status.busy": "2021-11-22T21:41:45.794599Z",
     "iopub.status.idle": "2021-11-22T21:41:45.803574Z",
     "shell.execute_reply": "2021-11-22T21:41:45.802735Z",
     "shell.execute_reply.started": "2021-11-22T21:41:45.794868Z"
    },
    "scrolled": true
   },
   "outputs": [
    {
     "name": "stdout",
     "output_type": "stream",
     "text": [
      "Sex  HeartDiseaseorAttack\n",
      "0.0  0.0                     131769\n",
      "     1.0                      10205\n",
      "1.0  0.0                      98018\n",
      "     1.0                      13688\n",
      "dtype: int64\n"
     ]
    }
   ],
   "source": [
    "data_sex = data.groupby([\"Sex\",\"HeartDiseaseorAttack\"]).size()\n",
    "print(data_sex)"
   ]
  },
  {
   "cell_type": "code",
   "execution_count": 14,
   "metadata": {
    "execution": {
     "iopub.execute_input": "2021-11-22T21:41:45.805223Z",
     "iopub.status.busy": "2021-11-22T21:41:45.804980Z",
     "iopub.status.idle": "2021-11-22T21:41:45.966772Z",
     "shell.execute_reply": "2021-11-22T21:41:45.965747Z",
     "shell.execute_reply.started": "2021-11-22T21:41:45.805194Z"
    }
   },
   "outputs": [
    {
     "data": {
      "image/png": "[encoded data removed]",
      "text/plain": [
       "<Figure size 432x288 with 1 Axes>"
      ]
     },
     "metadata": {},
     "output_type": "display_data"
    }
   ],
   "source": [
    "plt.pie(data_sex.values, labels = [\"(Percent of women who suffer from heart diseases)\", \" (Percent of women who suffer from heart diseases)\", \" (Percent of men who do suffer from heart diseases)\", \"(Percent of who suffering from heart diseases)\"],autopct='%1.1f%%',radius = 2, textprops = {\"fontsize\" : 14})\n",
    "plt.show()"
   ]
  },
  {
   "cell_type": "code",
   "execution_count": 15,
   "metadata": {
    "execution": {
     "iopub.execute_input": "2021-11-22T21:41:45.968802Z",
     "iopub.status.busy": "2021-11-22T21:41:45.968416Z",
     "iopub.status.idle": "2021-11-22T21:41:45.976490Z",
     "shell.execute_reply": "2021-11-22T21:41:45.975824Z",
     "shell.execute_reply.started": "2021-11-22T21:41:45.968747Z"
    }
   },
   "outputs": [],
   "source": [
    "data_age = data.groupby([\"Age\", \"HeartDiseaseorAttack\"]).size(). head(60)"
   ]
  },
  {
   "cell_type": "code",
   "execution_count": 16,
   "metadata": {
    "execution": {
     "iopub.execute_input": "2021-11-22T21:41:45.978519Z",
     "iopub.status.busy": "2021-11-22T21:41:45.977816Z",
     "iopub.status.idle": "2021-11-22T21:41:45.995230Z",
     "shell.execute_reply": "2021-11-22T21:41:45.994100Z",
     "shell.execute_reply.started": "2021-11-22T21:41:45.978480Z"
    },
    "scrolled": true
   },
   "outputs": [
    {
     "data": {
      "text/plain": [
       "Age   HeartDiseaseorAttack\n",
       "1.0   0.0                      5671\n",
       "      1.0                        29\n",
       "2.0   0.0                      7544\n",
       "      1.0                        54\n",
       "3.0   0.0                     10997\n",
       "      1.0                       126\n",
       "4.0   0.0                     13630\n",
       "      1.0                       193\n",
       "5.0   0.0                     15806\n",
       "      1.0                       351\n",
       "6.0   0.0                     19107\n",
       "      1.0                       712\n",
       "7.0   0.0                     24889\n",
       "      1.0                      1425\n",
       "8.0   0.0                     28579\n",
       "      1.0                      2253\n",
       "9.0   0.0                     29886\n",
       "      1.0                      3358\n",
       "10.0  0.0                     28001\n",
       "      1.0                      4193\n",
       "11.0  0.0                     19586\n",
       "      1.0                      3947\n",
       "12.0  0.0                     12887\n",
       "      1.0                      3093\n",
       "13.0  0.0                     13204\n",
       "      1.0                      4159\n",
       "dtype: int64"
      ]
     },
     "execution_count": 16,
     "metadata": {},
     "output_type": "execute_result"
    }
   ],
   "source": [
    "data_age"
   ]
  },
  {
   "cell_type": "code",
   "execution_count": 17,
   "metadata": {
    "execution": {
     "iopub.execute_input": "2021-11-22T21:41:45.997784Z",
     "iopub.status.busy": "2021-11-22T21:41:45.996921Z",
     "iopub.status.idle": "2021-11-22T21:41:46.335226Z",
     "shell.execute_reply": "2021-11-22T21:41:46.334553Z",
     "shell.execute_reply.started": "2021-11-22T21:41:45.997742Z"
    }
   },
   "outputs": [
    {
     "data": {
      "image/png": "[encoded data removed]",
      "text/plain": [
       "<Figure size 432x288 with 1 Axes>"
      ]
     },
     "metadata": {
      "needs_background": "light"
     },
     "output_type": "display_data"
    }
   ],
   "source": [
    "plt.hist([data[data.HeartDiseaseorAttack==0].Age, data[data.HeartDiseaseorAttack==1].Age], bins =15, alpha =0.5,  align='mid',histtype = \"bar\", orientation='vertical',  label = [\"Doesn't suffer from heart diseases\",\"Suffering from heart diseases\"])\n",
    "plt.xlabel(\"Age\")\n",
    "plt.ylabel(\"Percentage\")\n",
    "plt.legend()\n",
    "plt.show()"
   ]
  },
  {
   "cell_type": "code",
   "execution_count": 18,
   "metadata": {
    "execution": {
     "iopub.execute_input": "2021-11-22T21:41:46.337189Z",
     "iopub.status.busy": "2021-11-22T21:41:46.336372Z",
     "iopub.status.idle": "2021-11-22T21:41:46.346276Z",
     "shell.execute_reply": "2021-11-22T21:41:46.345630Z",
     "shell.execute_reply.started": "2021-11-22T21:41:46.337139Z"
    }
   },
   "outputs": [
    {
     "data": {
      "text/plain": [
       "HeartDiseaseorAttack    0\n",
       "HighBP                  0\n",
       "HighChol                0\n",
       "CholCheck               0\n",
       "BMI                     0\n",
       "Smoker                  0\n",
       "Stroke                  0\n",
       "Diabetes                0\n",
       "PhysActivity            0\n",
       "Fruits                  0\n",
       "Veggies                 0\n",
       "HvyAlcoholConsump       0\n",
       "AnyHealthcare           0\n",
       "NoDocbcCost             0\n",
       "GenHlth                 0\n",
       "MentHlth                0\n",
       "PhysHlth                0\n",
       "DiffWalk                0\n",
       "Sex                     0\n",
       "Age                     0\n",
       "Education               0\n",
       "Income                  0\n",
       "dtype: int64"
      ]
     },
     "execution_count": 18,
     "metadata": {},
     "output_type": "execute_result"
    }
   ],
   "source": [
    "data.isnull().sum()"
   ]
  },
  {
   "cell_type": "code",
   "execution_count": 19,
   "metadata": {
    "execution": {
     "iopub.execute_input": "2021-11-22T21:41:46.347975Z",
     "iopub.status.busy": "2021-11-22T21:41:46.347452Z",
     "iopub.status.idle": "2021-11-22T21:41:46.588401Z",
     "shell.execute_reply": "2021-11-22T21:41:46.587352Z",
     "shell.execute_reply.started": "2021-11-22T21:41:46.347845Z"
    }
   },
   "outputs": [
    {
     "data": {
      "text/plain": [
       "<AxesSubplot:xlabel='Age', ylabel='CholCheck'>"
      ]
     },
     "execution_count": 19,
     "metadata": {},
     "output_type": "execute_result"
    },
    {
     "data": {
      "image/png": "[encoded data removed]",
      "text/plain": [
       "<Figure size 432x288 with 1 Axes>"
      ]
     },
     "metadata": {
      "needs_background": "light"
     },
     "output_type": "display_data"
    }
   ],
   "source": [
    "sbn.scatterplot(x = \"Age\", y = \"CholCheck\", data=data)"
   ]
  },
  {
   "cell_type": "code",
   "execution_count": 20,
   "metadata": {
    "execution": {
     "iopub.execute_input": "2021-11-22T21:41:46.590116Z",
     "iopub.status.busy": "2021-11-22T21:41:46.589896Z",
     "iopub.status.idle": "2021-11-22T21:41:46.595009Z",
     "shell.execute_reply": "2021-11-22T21:41:46.594149Z",
     "shell.execute_reply.started": "2021-11-22T21:41:46.590090Z"
    }
   },
   "outputs": [],
   "source": [
    "x = data.iloc[:,0:13]"
   ]
  },
  {
   "cell_type": "code",
   "execution_count": 21,
   "metadata": {
    "execution": {
     "iopub.execute_input": "2021-11-22T21:41:46.596482Z",
     "iopub.status.busy": "2021-11-22T21:41:46.596188Z",
     "iopub.status.idle": "2021-11-22T21:41:46.607491Z",
     "shell.execute_reply": "2021-11-22T21:41:46.606535Z",
     "shell.execute_reply.started": "2021-11-22T21:41:46.596448Z"
    }
   },
   "outputs": [],
   "source": [
    "y = data['HeartDiseaseorAttack']"
   ]
  },
  {
   "cell_type": "code",
   "execution_count": null,
   "metadata": {},
   "outputs": [],
   "source": [
    "x,y=undersample.fit_resample(x,y)"
   ]
  },
  {
   "cell_type": "code",
   "execution_count": null,
   "metadata": {
    "execution": {
     "iopub.execute_input": "2021-11-22T21:41:46.609117Z",
     "iopub.status.busy": "2021-11-22T21:41:46.608846Z",
     "iopub.status.idle": "2021-11-22T21:41:46.622963Z",
     "shell.execute_reply": "2021-11-22T21:41:46.621965Z",
     "shell.execute_reply.started": "2021-11-22T21:41:46.609086Z"
    }
   },
   "outputs": [],
   "source": [
    "x_train, x_test, y_train, y_test = train_test_split(x, y, test_size=0.20, random_state = 0)"
   ]
  },
  {
   "cell_type": "code",
   "execution_count": null,
   "metadata": {
    "execution": {
     "iopub.execute_input": "2021-11-22T21:41:46.624838Z",
     "iopub.status.busy": "2021-11-22T21:41:46.624076Z",
     "iopub.status.idle": "2021-11-22T21:41:46.636351Z",
     "shell.execute_reply": "2021-11-22T21:41:46.635469Z",
     "shell.execute_reply.started": "2021-11-22T21:41:46.624802Z"
    }
   },
   "outputs": [],
   "source": [
    "sc = StandardScaler()\n",
    "X_train = sc.fit_transform(x_train)\n",
    "X_test = sc.transform(x_test)"
   ]
  },
  {
   "cell_type": "code",
   "execution_count": null,
   "metadata": {
    "execution": {
     "iopub.execute_input": "2021-11-22T21:41:46.638249Z",
     "iopub.status.busy": "2021-11-22T21:41:46.637633Z",
     "iopub.status.idle": "2021-11-22T21:41:46.777407Z",
     "shell.execute_reply": "2021-11-22T21:41:46.776489Z",
     "shell.execute_reply.started": "2021-11-22T21:41:46.638216Z"
    }
   },
   "outputs": [],
   "source": [
    "from sklearn.neighbors import KNeighborsClassifier\n",
    "knn = KNeighborsClassifier(n_neighbors = 8, metric = \"minkowski\")\n",
    "knn.fit(X_train, y_train)\n",
    "y_pred1 = knn.predict(X_test)\n",
    "cm = confusion_matrix(y_test, y_pred1)"
   ]
  },
  {
   "cell_type": "code",
   "execution_count": null,
   "metadata": {
    "execution": {
     "iopub.execute_input": "2021-11-22T21:41:46.779389Z",
     "iopub.status.busy": "2021-11-22T21:41:46.778889Z",
     "iopub.status.idle": "2021-11-22T21:41:46.786018Z",
     "shell.execute_reply": "2021-11-22T21:41:46.785323Z",
     "shell.execute_reply.started": "2021-11-22T21:41:46.779342Z"
    }
   },
   "outputs": [],
   "source": [
    "cm"
   ]
  },
  {
   "cell_type": "code",
   "execution_count": null,
   "metadata": {
    "execution": {
     "iopub.execute_input": "2021-11-22T21:41:46.787993Z",
     "iopub.status.busy": "2021-11-22T21:41:46.787481Z",
     "iopub.status.idle": "2021-11-22T21:41:46.801076Z",
     "shell.execute_reply": "2021-11-22T21:41:46.800026Z",
     "shell.execute_reply.started": "2021-11-22T21:41:46.787959Z"
    }
   },
   "outputs": [],
   "source": [
    "accuracy_score_knn = accuracy_score(y_pred1, y_test)"
   ]
  },
  {
   "cell_type": "code",
   "execution_count": null,
   "metadata": {
    "execution": {
     "iopub.execute_input": "2021-11-22T21:41:46.803307Z",
     "iopub.status.busy": "2021-11-22T21:41:46.802786Z",
     "iopub.status.idle": "2021-11-22T21:41:46.812175Z",
     "shell.execute_reply": "2021-11-22T21:41:46.811221Z",
     "shell.execute_reply.started": "2021-11-22T21:41:46.803271Z"
    }
   },
   "outputs": [],
   "source": [
    "accuracy_score_knn"
   ]
  },
  {
   "cell_type": "code",
   "execution_count": null,
   "metadata": {
    "execution": {
     "iopub.execute_input": "2021-11-22T21:41:46.813796Z",
     "iopub.status.busy": "2021-11-22T21:41:46.813458Z",
     "iopub.status.idle": "2021-11-22T21:41:46.831916Z",
     "shell.execute_reply": "2021-11-22T21:41:46.831103Z",
     "shell.execute_reply.started": "2021-11-22T21:41:46.813764Z"
    }
   },
   "outputs": [],
   "source": [
    "from sklearn.naive_bayes import BernoulliNB\n",
    "bn = BernoulliNB()\n",
    "bn.fit(X_train, y_train)\n",
    "y_pred2 = bn.predict(X_test)\n",
    "cm = confusion_matrix(y_test, y_pred2)"
   ]
  },
  {
   "cell_type": "code",
   "execution_count": null,
   "metadata": {
    "execution": {
     "iopub.execute_input": "2021-11-22T21:41:46.833841Z",
     "iopub.status.busy": "2021-11-22T21:41:46.833222Z",
     "iopub.status.idle": "2021-11-22T21:41:46.839247Z",
     "shell.execute_reply": "2021-11-22T21:41:46.838732Z",
     "shell.execute_reply.started": "2021-11-22T21:41:46.833804Z"
    }
   },
   "outputs": [],
   "source": [
    "cm"
   ]
  },
  {
   "cell_type": "code",
   "execution_count": null,
   "metadata": {
    "execution": {
     "iopub.execute_input": "2021-11-22T21:41:46.840783Z",
     "iopub.status.busy": "2021-11-22T21:41:46.840259Z",
     "iopub.status.idle": "2021-11-22T21:41:46.849288Z",
     "shell.execute_reply": "2021-11-22T21:41:46.848492Z",
     "shell.execute_reply.started": "2021-11-22T21:41:46.840736Z"
    }
   },
   "outputs": [],
   "source": [
    "accuracy_score_bn = accuracy_score(y_pred2, y_test)"
   ]
  },
  {
   "cell_type": "code",
   "execution_count": null,
   "metadata": {
    "execution": {
     "iopub.execute_input": "2021-11-22T21:41:46.855301Z",
     "iopub.status.busy": "2021-11-22T21:41:46.854887Z",
     "iopub.status.idle": "2021-11-22T21:41:46.862934Z",
     "shell.execute_reply": "2021-11-22T21:41:46.862342Z",
     "shell.execute_reply.started": "2021-11-22T21:41:46.855259Z"
    }
   },
   "outputs": [],
   "source": [
    "accuracy_score_bn"
   ]
  },
  {
   "cell_type": "code",
   "execution_count": null,
   "metadata": {
    "execution": {
     "iopub.execute_input": "2021-11-22T21:41:46.864842Z",
     "iopub.status.busy": "2021-11-22T21:41:46.864122Z",
     "iopub.status.idle": "2021-11-22T21:41:46.903719Z",
     "shell.execute_reply": "2021-11-22T21:41:46.902980Z",
     "shell.execute_reply.started": "2021-11-22T21:41:46.864809Z"
    }
   },
   "outputs": [],
   "source": [
    "from sklearn.tree import DecisionTreeClassifier\n",
    "dtc = DecisionTreeClassifier(criterion = \"entropy\")\n",
    "dtc.fit(X_train, y_train)\n",
    "y_pred3 = dtc.predict(X_test)\n",
    "cm = confusion_matrix(y_test, y_pred3)\n"
   ]
  },
  {
   "cell_type": "code",
   "execution_count": null,
   "metadata": {
    "execution": {
     "iopub.execute_input": "2021-11-22T21:41:46.905485Z",
     "iopub.status.busy": "2021-11-22T21:41:46.905068Z",
     "iopub.status.idle": "2021-11-22T21:41:46.910296Z",
     "shell.execute_reply": "2021-11-22T21:41:46.909741Z",
     "shell.execute_reply.started": "2021-11-22T21:41:46.905452Z"
    }
   },
   "outputs": [],
   "source": [
    "cm"
   ]
  },
  {
   "cell_type": "code",
   "execution_count": null,
   "metadata": {
    "execution": {
     "iopub.execute_input": "2021-11-22T21:41:46.911815Z",
     "iopub.status.busy": "2021-11-22T21:41:46.911567Z",
     "iopub.status.idle": "2021-11-22T21:41:46.924163Z",
     "shell.execute_reply": "2021-11-22T21:41:46.923492Z",
     "shell.execute_reply.started": "2021-11-22T21:41:46.911786Z"
    }
   },
   "outputs": [],
   "source": [
    "accuracy_score_dtc = accuracy_score(y_pred3, y_test)"
   ]
  },
  {
   "cell_type": "code",
   "execution_count": null,
   "metadata": {
    "execution": {
     "iopub.execute_input": "2021-11-22T21:41:46.926147Z",
     "iopub.status.busy": "2021-11-22T21:41:46.925388Z",
     "iopub.status.idle": "2021-11-22T21:41:46.935289Z",
     "shell.execute_reply": "2021-11-22T21:41:46.934743Z",
     "shell.execute_reply.started": "2021-11-22T21:41:46.926102Z"
    }
   },
   "outputs": [],
   "source": [
    "accuracy_score_dtc"
   ]
  },
  {
   "cell_type": "code",
   "execution_count": null,
   "metadata": {
    "execution": {
     "iopub.execute_input": "2021-11-22T21:41:46.937071Z",
     "iopub.status.busy": "2021-11-22T21:41:46.936612Z",
     "iopub.status.idle": "2021-11-22T21:41:46.997650Z",
     "shell.execute_reply": "2021-11-22T21:41:46.996944Z",
     "shell.execute_reply.started": "2021-11-22T21:41:46.937042Z"
    }
   },
   "outputs": [],
   "source": [
    "from sklearn.ensemble import RandomForestClassifier\n",
    "rfc = RandomForestClassifier(n_estimators = 11, criterion = \"entropy\")\n",
    "rfc.fit(X_train, y_train)\n",
    "y_pred4 = rfc.predict(X_test)\n",
    "cm = confusion_matrix(y_test, y_pred4)"
   ]
  },
  {
   "cell_type": "code",
   "execution_count": null,
   "metadata": {
    "execution": {
     "iopub.execute_input": "2021-11-22T21:41:46.999423Z",
     "iopub.status.busy": "2021-11-22T21:41:46.999004Z",
     "iopub.status.idle": "2021-11-22T21:41:47.004333Z",
     "shell.execute_reply": "2021-11-22T21:41:47.003775Z",
     "shell.execute_reply.started": "2021-11-22T21:41:46.999391Z"
    }
   },
   "outputs": [],
   "source": [
    "cm"
   ]
  },
  {
   "cell_type": "code",
   "execution_count": null,
   "metadata": {
    "execution": {
     "iopub.execute_input": "2021-11-22T21:41:47.006156Z",
     "iopub.status.busy": "2021-11-22T21:41:47.005766Z",
     "iopub.status.idle": "2021-11-22T21:41:47.016115Z",
     "shell.execute_reply": "2021-11-22T21:41:47.015399Z",
     "shell.execute_reply.started": "2021-11-22T21:41:47.006126Z"
    }
   },
   "outputs": [],
   "source": [
    "accuracy_score_rfc = accuracy_score(y_pred4, y_test)"
   ]
  },
  {
   "cell_type": "code",
   "execution_count": null,
   "metadata": {
    "execution": {
     "iopub.execute_input": "2021-11-22T21:41:47.018127Z",
     "iopub.status.busy": "2021-11-22T21:41:47.017612Z",
     "iopub.status.idle": "2021-11-22T21:41:47.028165Z",
     "shell.execute_reply": "2021-11-22T21:41:47.027329Z",
     "shell.execute_reply.started": "2021-11-22T21:41:47.018096Z"
    }
   },
   "outputs": [],
   "source": [
    "accuracy_score_rfc"
   ]
  },
  {
   "cell_type": "code",
   "execution_count": null,
   "metadata": {
    "execution": {
     "iopub.execute_input": "2021-11-22T21:41:47.030271Z",
     "iopub.status.busy": "2021-11-22T21:41:47.029763Z",
     "iopub.status.idle": "2021-11-22T21:41:47.039105Z",
     "shell.execute_reply": "2021-11-22T21:41:47.038385Z",
     "shell.execute_reply.started": "2021-11-22T21:41:47.030215Z"
    }
   },
   "outputs": [],
   "source": [
    "models = [accuracy_score_knn, accuracy_score_bn, accuracy_score_dtc, accuracy_score_rfc]\n",
    "accuracy_scores = []\n",
    "for model in models:\n",
    "    accuracy_scores.append(model)\n",
    "print(accuracy_scores)    "
   ]
  },
  {
   "cell_type": "code",
   "execution_count": null,
   "metadata": {
    "execution": {
     "iopub.execute_input": "2021-11-22T21:41:47.041165Z",
     "iopub.status.busy": "2021-11-22T21:41:47.040364Z",
     "iopub.status.idle": "2021-11-22T21:41:47.295372Z",
     "shell.execute_reply": "2021-11-22T21:41:47.294658Z",
     "shell.execute_reply.started": "2021-11-22T21:41:47.041119Z"
    },
    "scrolled": true
   },
   "outputs": [],
   "source": [
    "plt.bar(['KNN', 'BN', 'DTC', 'RFC'], accuracy_scores)\n",
    "plt.ylim(0.6,1.0)\n",
    "plt.title('Accuracy comparison for various models', fontsize=15, color='b')\n",
    "plt.xlabel('Models', fontsize=15, color='g')\n",
    "plt.ylabel('Accuracy Score', fontsize=15, color='m')\n",
    "plt.tight_layout()\n",
    "plt.show()"
   ]
  },
  {
   "cell_type": "code",
   "execution_count": null,
   "metadata": {},
   "outputs": [],
   "source": [
    "scaled_train=preprocessing.scale(x)"
   ]
  },
  {
   "cell_type": "code",
   "execution_count": null,
   "metadata": {},
   "outputs": [],
   "source": [
    "pca=PCA()\n",
    "pca.fit(xpca_train)\n",
    "pca_train=pca.transform(xpca_train)\n",
    "pca_test=pca.transform(xpca_test)\n",
    "\n",
    "per_var=np.round(pca.explained_variance_ratio_*100,decimals=1)\n",
    "labels=[\"PC\"+str(i) for i in range(1,len(per_var)+1)]\n",
    "plt.bar(x=range(1,len(per_var)+1),height=per_var,tick_label=labels)\n",
    "plt.ylabel(\"percentage of explained variance\")\n",
    "plt.xlabel(\"principal  compenent\")\n",
    "plt.title(\"scree\")\n",
    "plt.show()"
   ]
  },
  {
   "cell_type": "code",
   "execution_count": null,
   "metadata": {
    "scrolled": true
   },
   "outputs": [],
   "source": [
    "pca_df=pd.DataFrame(pca_data,columns=labels)\n",
    "plt.scatter(pca_df.PC1,pca_df.PC2,pca_df.PC3,pca_df.PC4)\n",
    "plt.show()"
   ]
  },
  {
   "cell_type": "code",
   "execution_count": null,
   "metadata": {
    "scrolled": true
   },
   "outputs": [],
   "source": [
    "loading_scores=pd.Series(pca.components_[0])\n",
    "sorted_loading_scores=loading_scores.abs().sort_values(ascending=False)\n",
    "top_10=sorted_loading_scores[0:10].index.values\n",
    "print(sorted_loading_scores)"
   ]
  },
  {
   "cell_type": "code",
   "execution_count": null,
   "metadata": {},
   "outputs": [],
   "source": [
    "pcset=pca_df[[\"PC13\",\"PC16\",\"PC15\",\"PC20\",\"PC19\",\"PC19\",\"PC6\",\"PC7\"]]"
   ]
  },
  {
   "cell_type": "code",
   "execution_count": null,
   "metadata": {
    "scrolled": true
   },
   "outputs": [],
   "source": [
    "pcset[\"HeartDiseaseorAttack\"]=data[\"HeartDiseaseorAttack\"]"
   ]
  },
  {
   "cell_type": "code",
   "execution_count": null,
   "metadata": {},
   "outputs": [],
   "source": [
    "pcset.shape"
   ]
  },
  {
   "cell_type": "code",
   "execution_count": null,
   "metadata": {},
   "outputs": [],
   "source": [
    "xpca_train, xpca_test, ypca_train, ypca_test = train_test_split(spcset,y, test_size=0.20, random_state = 0)"
   ]
  },
  {
   "cell_type": "code",
   "execution_count": null,
   "metadata": {},
   "outputs": [],
   "source": [
    "knnpca = KNeighborsClassifier(n_neighbors = 8, metric = \"minkowski\")\n",
    "knn.fit(xpca_train, ypca_train)\n",
    "ypca_pred = knn.predict(xpca_test)\n",
    "cmpca = confusion_matrix(ypca_test, ypca_pred)"
   ]
  },
  {
   "cell_type": "code",
   "execution_count": null,
   "metadata": {},
   "outputs": [],
   "source": [
    "cmpca"
   ]
  },
  {
   "cell_type": "code",
   "execution_count": null,
   "metadata": {},
   "outputs": [],
   "source": [
    "accuracy_score_pca= accuracy_score(ypca_pred, ypca_test)\n",
    "accuracy_score_pca\n"
   ]
  },
  {
   "cell_type": "code",
   "execution_count": null,
   "metadata": {},
   "outputs": [],
   "source": [
    "print(classification_report(ypca_test,ypca_pred))"
   ]
  },
  {
   "cell_type": "markdown",
   "metadata": {},
   "source": []
  }
 ],
 "metadata": {
  "kernelspec": {
   "display_name": "Python 3",
   "language": "python",
   "name": "python3"
  },
  "language_info": {
   "codemirror_mode": {
    "name": "ipython",
    "version": 3
   },
   "file_extension": ".py",
   "mimetype": "text/x-python",
   "name": "python",
   "nbconvert_exporter": "python",
   "pygments_lexer": "ipython3",
   "version": "3.8.8"
  }
 },
 "nbformat": 4,
 "nbformat_minor": 4
}
